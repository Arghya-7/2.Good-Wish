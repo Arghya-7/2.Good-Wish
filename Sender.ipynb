{
 "cells": [
  {
   "cell_type": "code",
   "execution_count": 1,
   "id": "9ceb13bc",
   "metadata": {},
   "outputs": [],
   "source": [
    "import pandas as pd\n",
    "import numpy as np\n",
    "import pywhatkit\n",
    "from datetime import datetime\n",
    "from datetime import date"
   ]
  },
  {
   "cell_type": "code",
   "execution_count": 2,
   "id": "db831c23",
   "metadata": {},
   "outputs": [],
   "source": [
    "# dic={\n",
    "#     'ph no':['919804418408','916290103455','919631388756'],\n",
    "#     'name':['Baba','Arghya','Manisha'],\n",
    "#     'event':['birthday','birthday','birthday'],\n",
    "#     'date':['22/04','22/04','27/04']\n",
    "#     }"
   ]
  },
  {
   "cell_type": "code",
   "execution_count": 3,
   "id": "f28f0dc9",
   "metadata": {},
   "outputs": [],
   "source": [
    "#file=pd.DataFrame(dic)"
   ]
  },
  {
   "cell_type": "code",
   "execution_count": 4,
   "id": "e7383cf3",
   "metadata": {},
   "outputs": [],
   "source": [
    "#file.to_csv('contact.csv',index=False)"
   ]
  },
  {
   "cell_type": "code",
   "execution_count": 5,
   "id": "32434bd5",
   "metadata": {},
   "outputs": [],
   "source": [
    "x=pd.read_csv('contact.csv')"
   ]
  },
  {
   "cell_type": "code",
   "execution_count": 6,
   "id": "9966b8bd",
   "metadata": {},
   "outputs": [],
   "source": [
    "today = date.today()\n",
    "today=today.strftime(\"%d/%m\")\n",
    "count=0\n",
    "workfile=[]\n",
    "today=str(today)\n",
    "for i in x['date']:\n",
    "    if today[:] == i[:]:\n",
    "        workfile.append(count)\n",
    "    count +=1\n",
    "        "
   ]
  },
  {
   "cell_type": "code",
   "execution_count": 7,
   "id": "3751b4d4",
   "metadata": {},
   "outputs": [
    {
     "name": "stdout",
     "output_type": "stream",
     "text": [
      "In 43 Seconds WhatsApp will open and after 15 Seconds Message will be Delivered!\n",
      "Completed\n"
     ]
    }
   ],
   "source": [
    "def addTime(hr,mint):\n",
    "    mint +=1\n",
    "    if mint >=60:\n",
    "        mint=(mint%60)\n",
    "        if hr<24:\n",
    "            hr +=1\n",
    "        else:\n",
    "            hr=1\n",
    "    return hr,mint\n",
    "    \n",
    "for i in workfile:\n",
    "    time=datetime.now()\n",
    "    hr=time.hour\n",
    "    mint=time.minute\n",
    "    name=x['name'][i]\n",
    "    mobile=x['ph no'][i]\n",
    "    event=x['event'][i]\n",
    "    hr,mint=addTime(hr,mint)\n",
    "    message='Happy '+event+\" \"+name + \" 🥳🥳\"\n",
    "    pywhatkit.sendwhatmsg(mobile,str(message),hr,mint)\n",
    "print(\"Completed\")"
   ]
  },
  {
   "cell_type": "code",
   "execution_count": null,
   "id": "8f22800b",
   "metadata": {},
   "outputs": [],
   "source": []
  },
  {
   "cell_type": "code",
   "execution_count": null,
   "id": "24e8504a",
   "metadata": {},
   "outputs": [],
   "source": []
  },
  {
   "cell_type": "code",
   "execution_count": null,
   "id": "b2c4bcab",
   "metadata": {},
   "outputs": [],
   "source": []
  }
 ],
 "metadata": {
  "kernelspec": {
   "display_name": "Python 3 (ipykernel)",
   "language": "python",
   "name": "python3"
  },
  "language_info": {
   "codemirror_mode": {
    "name": "ipython",
    "version": 3
   },
   "file_extension": ".py",
   "mimetype": "text/x-python",
   "name": "python",
   "nbconvert_exporter": "python",
   "pygments_lexer": "ipython3",
   "version": "3.10.4"
  }
 },
 "nbformat": 4,
 "nbformat_minor": 5
}
