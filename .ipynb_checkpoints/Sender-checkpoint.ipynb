{
 "cells": [
  {
   "cell_type": "code",
   "execution_count": null,
   "id": "31d39e97",
   "metadata": {},
   "outputs": [],
   "source": [
    "import pandas as pd\n",
    "import numpy as np\n",
    "import pywhatkit\n",
    "from datetime import date"
   ]
  },
  {
   "cell_type": "code",
   "execution_count": null,
   "id": "5184bc14",
   "metadata": {},
   "outputs": [],
   "source": [
    "dic={\n",
    "    '+919883110249':['5/5','Baba'],\n",
    "    '+916290103455':['15/10','Arghya']\n",
    "    }"
   ]
  },
  {
   "cell_type": "code",
   "execution_count": null,
   "id": "246533a1",
   "metadata": {},
   "outputs": [],
   "source": [
    "file=pd.DataFrame(dic)"
   ]
  },
  {
   "cell_type": "code",
   "execution_count": null,
   "id": "4cbf3580",
   "metadata": {},
   "outputs": [],
   "source": [
    "file.to_csv('con.csv')"
   ]
  },
  {
   "cell_type": "code",
   "execution_count": null,
   "id": "e9de2a62",
   "metadata": {},
   "outputs": [],
   "source": [
    "file"
   ]
  },
  {
   "cell_type": "code",
   "execution_count": null,
   "id": "82aea387",
   "metadata": {},
   "outputs": [],
   "source": [
    "x=pd.read_csv('con.csv')"
   ]
  },
  {
   "cell_type": "code",
   "execution_count": null,
   "id": "117b3780",
   "metadata": {},
   "outputs": [],
   "source": [
    "x"
   ]
  },
  {
   "cell_type": "code",
   "execution_count": null,
   "id": "06d07ac6",
   "metadata": {},
   "outputs": [],
   "source": []
  }
 ],
 "metadata": {
  "kernelspec": {
   "display_name": "Python 3 (ipykernel)",
   "language": "python",
   "name": "python3"
  },
  "language_info": {
   "codemirror_mode": {
    "name": "ipython",
    "version": 3
   },
   "file_extension": ".py",
   "mimetype": "text/x-python",
   "name": "python",
   "nbconvert_exporter": "python",
   "pygments_lexer": "ipython3",
   "version": "3.10.4"
  }
 },
 "nbformat": 4,
 "nbformat_minor": 5
}
